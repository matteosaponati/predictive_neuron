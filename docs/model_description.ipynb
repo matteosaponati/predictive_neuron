{
  "nbformat": 4,
  "nbformat_minor": 0,
  "metadata": {
    "colab": {
      "provenance": [],
      "toc_visible": true,
      "authorship_tag": "ABX9TyPVH49b2e21CPDgih7qX6G2",
      "include_colab_link": true
    },
    "kernelspec": {
      "name": "python3",
      "display_name": "Python 3"
    },
    "language_info": {
      "name": "python"
    }
  },
  "cells": [
    {
      "cell_type": "markdown",
      "metadata": {
        "id": "view-in-github",
        "colab_type": "text"
      },
      "source": [
        "<a href=\"https://colab.research.google.com/github/matteosaponati/predictive_neuron/blob/main/docs/model_description.ipynb\" target=\"_parent\"><img src=\"https://colab.research.google.com/assets/colab-badge.svg\" alt=\"Open In Colab\"/></a>"
      ]
    },
    {
      "cell_type": "code",
      "execution_count": null,
      "metadata": {
        "id": "_NRZmzulHdoO"
      },
      "outputs": [],
      "source": [
        "ciao"
      ]
    },
    {
      "cell_type": "markdown",
      "source": [
        "$\\dot{v}(t) = - \\frac{1}{\\tau_m} v(t)$"
      ],
      "metadata": {
        "id": "zBwxAHLryW54"
      }
    },
    {
      "cell_type": "markdown",
      "source": [
        "$v_t = \\Big(1 - \\frac{h}{\\tau_m}\\Big)v_{t-1} \\equiv \\alpha v_{t-1}$"
      ],
      "metadata": {
        "id": "x2UXl4UFzUbn"
      }
    },
    {
      "cell_type": "code",
      "source": [],
      "metadata": {
        "id": "F4DYTBZ6zTda"
      },
      "execution_count": null,
      "outputs": []
    },
    {
      "cell_type": "markdown",
      "source": [
        "# INTRODUCTION"
      ],
      "metadata": {
        "id": "cMU_Iw5A20gb"
      }
    },
    {
      "cell_type": "markdown",
      "source": [
        "## Dynamic Mode Decomposition (DMD)"
      ],
      "metadata": {
        "id": "FQf2q5dM2tHa"
      }
    },
    {
      "cell_type": "markdown",
      "source": [
        "$\\vec{x}_t  = A \\vec{x}_{t-1}$"
      ],
      "metadata": {
        "id": "wZIWG9zuz0Ox"
      }
    },
    {
      "cell_type": "markdown",
      "source": [
        "$\\vec{x}_t  = WW^T \\vec{x}_{t-1} = W\\vec{y}_{t-1}$"
      ],
      "metadata": {
        "id": "vIlEhKkOz5AX"
      }
    },
    {
      "cell_type": "code",
      "source": [],
      "metadata": {
        "id": "AxA4aKwl0TFx"
      },
      "execution_count": null,
      "outputs": []
    },
    {
      "cell_type": "markdown",
      "source": [
        "$v_t = W\\vec{x}_t + \\alpha v_{t-1} - v_{th}s_t$"
      ],
      "metadata": {
        "id": "LcPOT6fJ0TrT"
      }
    },
    {
      "cell_type": "code",
      "source": [],
      "metadata": {
        "id": "Gt_L_zW11_HH"
      },
      "execution_count": null,
      "outputs": []
    },
    {
      "cell_type": "markdown",
      "source": [
        "$\\hat{\\vec{x}}_t = Wv_{t-1} = W\\big(W^Tx_{t-1} + \\alpha v_{t-2} - v_{th}s_t\\big)$"
      ],
      "metadata": {
        "id": "Y1m_15b12NYv"
      }
    },
    {
      "cell_type": "code",
      "source": [],
      "metadata": {
        "id": "EpIdt6QQ2adb"
      },
      "execution_count": null,
      "outputs": []
    },
    {
      "cell_type": "markdown",
      "source": [
        "$\\epsilon_t = \\vec{x}_t - \\hat{\\vec{x}}_t = \\vec{x}_t - Wv_{t-1}$"
      ],
      "metadata": {
        "id": "CY8vnkuh2bQP"
      }
    },
    {
      "cell_type": "code",
      "source": [],
      "metadata": {
        "id": "_cid3m1O2plJ"
      },
      "execution_count": null,
      "outputs": []
    },
    {
      "cell_type": "markdown",
      "source": [
        "# MODEL\n"
      ],
      "metadata": {
        "id": "e-PRWDmV28AB"
      }
    },
    {
      "cell_type": "code",
      "source": [],
      "metadata": {
        "id": "UEieWD9V29uR"
      },
      "execution_count": null,
      "outputs": []
    }
  ]
}